{
  "nbformat": 4,
  "nbformat_minor": 0,
  "metadata": {
    "colab": {
      "provenance": []
    },
    "kernelspec": {
      "name": "python3",
      "display_name": "Python 3"
    },
    "language_info": {
      "name": "python"
    }
  },
  "cells": [
    {
      "cell_type": "markdown",
      "source": [
        "Task 1.1"
      ],
      "metadata": {
        "id": "iPppfaxiyQNx"
      }
    },
    {
      "cell_type": "code",
      "execution_count": 1,
      "metadata": {
        "colab": {
          "base_uri": "https://localhost:8080/"
        },
        "id": "aWTC-IaVtp1h",
        "outputId": "94d0fc84-f1ac-47f2-d483-c1b4f8d18d0c"
      },
      "outputs": [
        {
          "output_type": "stream",
          "name": "stdout",
          "text": [
            "('Kevin', 'Bob') 0.4\n",
            "('Stuart', 'Bob') 0.4\n",
            "('Stuart', 'Edith') 0.4\n",
            "('Bob', 'Edith') 0.4\n",
            "('Kevin', 'Edith') 0.3\n"
          ]
        }
      ],
      "source": [
        "from itertools import combinations\n",
        "Kevin = {\"Halsey\",\"Taylor Swift\",\"Mitski\",\"Joji\",\"Shawn Mendes\",\"Sabrina Carpenter\",\"Nicki Minaj\",\n",
        "         \"Conan Gray\",\"One Direction\",\"Justin Bieber\"}\n",
        "Stuart ={\"Kendrick Lamar\",\"Steve Lacy\",\"Tyler the Creator\",\"Joji\",\"TheWeeknd\",\"Coldplay\",\"Kanye West\",\n",
        "         \"Travis Scott\",\"Frank Ocean\",\"Brent Faiyaz\"}\n",
        "Bob ={\"Conan Gray\",\"Joji\",\"Dove Cameron\",\"Mitski\",\"Arctic Monkeys\",\"Steve Lacy\",\"Kendrick Lamar\",\n",
        "      \"Isabel LaRosa\",\"Shawn Mendes\",\"Coldplay\"}\n",
        "Edith ={\"Metallica\",\"Billie Eilish\",\"TheWeeknd\",\"Mitski\",\"NF\",\"Conan Gray\",\"Kendrick Lamar\",\"Nicki Minaj\",\n",
        "        \"Kanye West\",\"Coldplay\"}\n",
        "\n",
        "#Creating Combinations\n",
        "com_list= list(combinations([Kevin,Stuart,Bob,Edith],2))\n",
        "com_listnames=list(combinations(['Kevin','Stuart','Bob','Edith'],2))\n",
        "\n",
        "#Finding the overlap\n",
        "overlap=[]\n",
        "for x in range(0,6,1):\n",
        "    o=len(com_list[x][0].intersection(com_list[x][1]))/10\n",
        "    overlap.append(o)\n",
        "#print(com_listnames)\n",
        "#print(overlap)\n",
        "\n",
        "#Sorting the array\n",
        "sorted_list=sorted(com_listnames,key=lambda x:overlap[com_listnames.index(x)],reverse=True)\n",
        "overlap.sort(reverse=True)\n",
        "for x in range(0,6,1):\n",
        "    if overlap[x]>=0.3: print(sorted_list[x],overlap[x])\n",
        "\n",
        "\n",
        "\n",
        "#z=zip(com_listnames,overlap)\n",
        "#z_list=list(z)\n",
        "#print(z_list)\n",
        "#z_list.sort(reverse=True,key=lambda i: z_list[i][1])\n",
        "#print(z_list)\n",
        "#com_listnames.sort(reverse=True,key=lambda i:overlap[com_listnames.index(i)])\n",
        "#print(com_listnames)"
      ]
    },
    {
      "cell_type": "markdown",
      "source": [
        "Task 1.2"
      ],
      "metadata": {
        "id": "D7qSf-eQyU24"
      }
    },
    {
      "cell_type": "code",
      "source": [
        "gadgets=[\n",
        "    (\"Explosive Batarangs\",3,True),\n",
        "    (\"Batarangs\",5,True),\n",
        "    (\"Smoke Pellets\",0,False),\n",
        "    (\"Tear Gas Grenades\",2,True),\n",
        "    (\"Night Vision Goggles\",1,True),\n",
        "    (\"Batclaw\",0,False),\n",
        "    (\"Grapple Gun\",3,True),\n",
        "    (\"Batsignal\",0,False),\n",
        "    (\"Utility Belt\",1,True),\n",
        "    (\"Batmobile Tires\",4,True)\n",
        "]\n",
        "\n",
        "#Top Priority\n",
        "gadgets.sort(reverse=True,key=lambda t:t[2])\n",
        "#print(gadgets)\n",
        "\n",
        "#Within Stocked Status\n",
        "#print(gadgets[:7])\n",
        "#print(gadgets[7:])\n",
        "#tr=gadgets[:7] tr.sort(reverse=True,key=lambda n:n[1]) tr=tr + gadgets[7:] print(tr)\n",
        "tr=sorted(gadgets[:7],reverse=True,key=lambda n:n[1] )\n",
        "#print(tr+gadgets[7:])\n",
        "\n",
        "#Breaking Ties\n",
        "for x in range(0,7,1):\n",
        "    for j in range(x,7,1):\n",
        "        if tr[x][1]==tr[j][1] and tr[x][0]>tr[j][0]:\n",
        "            temp=tr[x]\n",
        "            tr[x]=tr[j]\n",
        "            tr[j]=temp\n",
        "\n",
        "print(tr+gadgets[7:])\n",
        "\n"
      ],
      "metadata": {
        "colab": {
          "base_uri": "https://localhost:8080/"
        },
        "id": "w1nm9aH3udbR",
        "outputId": "daf2a7ef-c869-434b-c4d3-5470d85f73cc"
      },
      "execution_count": 2,
      "outputs": [
        {
          "output_type": "stream",
          "name": "stdout",
          "text": [
            "[('Batarangs', 5, True), ('Batmobile Tires', 4, True), ('Explosive Batarangs', 3, True), ('Grapple Gun', 3, True), ('Tear Gas Grenades', 2, True), ('Night Vision Goggles', 1, True), ('Utility Belt', 1, True), ('Smoke Pellets', 0, False), ('Batclaw', 0, False), ('Batsignal', 0, False)]\n"
          ]
        }
      ]
    },
    {
      "cell_type": "markdown",
      "source": [
        "Task 1.3"
      ],
      "metadata": {
        "id": "JzxlolnyyZFy"
      }
    },
    {
      "cell_type": "code",
      "source": [
        "request_spending={\n",
        "    \"Mahek\":{\n",
        "        \"balance\":3000.00,\n",
        "        \"transactions\": [\n",
        "            {\"amount\": -9000.00, \"category\": \"Creatives\"},\n",
        "            {\"amount\": 7000.00, \"category\": \"Sponsor\"},\n",
        "            {\"amount\": -2000.00, \"category\": \"Prize-Money\"}\n",
        "        ]\n",
        "    },\n",
        "    \"Arham\": {\n",
        "        \"balance\":5000.00,\n",
        "        \"transactions\": [\n",
        "            {\"amount\": 8000.00, \"category\": \"Stalls\"},\n",
        "            {\"amount\": 7500.00, \"category\": \"Seminar\"}\n",
        "        ]\n",
        "\n",
        "    },\n",
        "    \"Unnati\": {\n",
        "        \"balance\":3500.00,\n",
        "        \"transactions\": [\n",
        "            {\"amount\": -5000.00, \"category\": \"Attraction\"},\n",
        "            {\"amount\": 2500.00, \"category\": \"Promo\"},\n",
        "            {\"amount\": -900.00, \"category\": \"Lighting\"},\n",
        "            {\"amount\": -3000.00, \"category\": \"Games\"}\n",
        "        ]\n",
        "    },\n",
        "    \"Gaurang\":{\n",
        "        \"balance\":2000.00,\n",
        "        \"transactions\": [\n",
        "            {\"amount\": -1500.00, \"category\": \"Website\"},\n",
        "            {\"amount\": -1000.00, \"category\": \"C2C\"},\n",
        "            {\"amount\": -500.00, \"category\": \"Posters\"}\n",
        "        ],\n",
        "    }\n",
        "}\n",
        "\n",
        "def total_spending(request_spending,account_id,category):\n",
        "    n=len(request_spending[account_id][\"transactions\"])\n",
        "    for x in range(0,n,1):\n",
        "        if(request_spending[account_id][\"transactions\"][x][\"category\"]==category):\n",
        "            if(request_spending[account_id][\"transactions\"][x][\"amount\"]<0):\n",
        "                request_spending[account_id][\"transactions\"]\n",
        "                print(f'Amount: {request_spending[account_id][\"transactions\"][x][\"amount\"]}')\n",
        "                print(f'Category: {request_spending[account_id][\"transactions\"][x][\"category\"]}')\n",
        "                break\n",
        "            else: print('No Amount Spent')\n",
        "            break\n",
        "\n",
        "total_spending(request_spending,\"Mahek\",\"Creatives\")\n",
        "\n",
        "def account_balance(request_spending,account_id):\n",
        "    n=len(request_spending[account_id][\"transactions\"])\n",
        "    total=0\n",
        "    for x in range(0,n,1):\n",
        "        total=total+request_spending[account_id][\"transactions\"][x][\"amount\"]\n",
        "    print(f'Balance: {total+request_spending[account_id][\"balance\"]}')\n",
        "\n",
        "account_balance(request_spending,\"Mahek\")\n",
        "\n",
        "\n",
        "def money_owed(request_spending,account_id):\n",
        "    n=len(request_spending[account_id][\"transactions\"])\n",
        "    total=0\n",
        "    for x in range(0,n,1):\n",
        "        total=total+request_spending[account_id][\"transactions\"][x][\"amount\"]\n",
        "    if(total<0):\n",
        "        total=-total\n",
        "        print(f\"Money Owed: {total}\")\n",
        "    elif(total==0):\n",
        "        print('No Money owed')\n",
        "    elif(total>0):\n",
        "        print(f\"Extra Money: {total}\")\n",
        "\n",
        "money_owed(request_spending,\"Mahek\")\n",
        "\n",
        ""
      ],
      "metadata": {
        "colab": {
          "base_uri": "https://localhost:8080/"
        },
        "id": "mpVpVNvHu6RE",
        "outputId": "7b8617b5-348f-4e2b-9cb5-549c185be66d"
      },
      "execution_count": 15,
      "outputs": [
        {
          "output_type": "stream",
          "name": "stdout",
          "text": [
            "Amount: -9000.0\n",
            "Category: Creatives\n",
            "Balance: -1000.0\n",
            "Money Owed: 4000.0\n"
          ]
        }
      ]
    },
    {
      "cell_type": "markdown",
      "source": [
        "Task 1.4"
      ],
      "metadata": {
        "id": "CydPZx9eybZK"
      }
    },
    {
      "cell_type": "code",
      "source": [
        "customers=[[5,2],[5,4],[10,3],[20,1]]\n",
        "n=len(customers)\n",
        "total=0\n",
        "iroh=customers[0][0]\n",
        "for x in range(0,n,1):\n",
        "    start=customers[x][0]\n",
        "    print(f\"start for {x+1} = {start}\")\n",
        "    if(start<=iroh):\n",
        "        iroh=iroh+customers[x][1]\n",
        "    elif(start>iroh):\n",
        "        iroh=start+customers[x][1]\n",
        "    print(f\"iroh for {x+1} = {iroh}\")\n",
        "    wait=iroh-start\n",
        "    print(f\"wait for {x+1} = {wait}\")\n",
        "    total=total+wait\n",
        "avg=total/n\n",
        "print(f\"Average Waiting Time: {avg}\")"
      ],
      "metadata": {
        "colab": {
          "base_uri": "https://localhost:8080/"
        },
        "id": "rgL8uBmIx6kz",
        "outputId": "0a59745b-6948-4988-fb85-049e8cdd385d"
      },
      "execution_count": 17,
      "outputs": [
        {
          "output_type": "stream",
          "name": "stdout",
          "text": [
            "start for 1 = 5\n",
            "iroh for 1 = 7\n",
            "wait for 1 = 2\n",
            "start for 2 = 5\n",
            "iroh for 2 = 11\n",
            "wait for 2 = 6\n",
            "start for 3 = 10\n",
            "iroh for 3 = 14\n",
            "wait for 3 = 4\n",
            "start for 4 = 20\n",
            "iroh for 4 = 21\n",
            "wait for 4 = 1\n",
            "Average Waiting Time: 3.25\n"
          ]
        }
      ]
    }
  ]
}